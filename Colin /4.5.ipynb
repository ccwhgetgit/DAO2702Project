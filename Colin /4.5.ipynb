{
 "cells": [
  {
   "cell_type": "code",
   "execution_count": 2,
   "metadata": {},
   "outputs": [
    {
     "data": {
      "text/plain": [
       "Index(['date', 'count_title_x', 'negative_mean_title', 'positive_mean_title',\n",
       "       'neutral_mean_title', 'compound_mean_title', 'count_body_x',\n",
       "       'negative_mean_body', 'positive_mean_body', 'neutral_mean_body',\n",
       "       'compound_mean_body', 'count_gme_title', 'negative_mean_gme_title',\n",
       "       'positive_mean_gme_title', 'neutral_mean_gme_title',\n",
       "       'compound_mean_gme_title', 'count_gme_body', 'negative_mean_gme_body',\n",
       "       'positive_mean_gme_body', 'neutral_mean_gme_body',\n",
       "       'compound_mean_gme_body', 'count_amc_title', 'negative_mean_amc_title',\n",
       "       'positive_mean_amc_title', 'neutral_mean_amc_title',\n",
       "       'compound_mean_amc_title', 'count_amc_body', 'negative_mean_amc_body',\n",
       "       'positive_mean_amc_body', 'neutral_mean_amc_body',\n",
       "       'compound_mean_amc_body', 'count_bb_title', 'negative_mean_bb_title',\n",
       "       'positive_mean_bb_title', 'neutral_mean_bb_title',\n",
       "       'compound_mean_bb_title', 'count_bb_body', 'negative_mean_bb_body',\n",
       "       'positive_mean_bb_body', 'neutral_mean_bb_body',\n",
       "       'compound_mean_bb_body', 'count_clov_title', 'negative_mean_clov_title',\n",
       "       'positive_mean_clov_title', 'neutral_mean_clov_title',\n",
       "       'compound_mean_clov_title', 'count_clov_body',\n",
       "       'negative_mean_clov_body', 'positive_mean_clov_body',\n",
       "       'neutral_mean_clov_body', 'compound_mean_clov_body', 'Clov', 'BB',\n",
       "       'AMC', 'GME', 'count_title_y', 'average_title', 'count_body_y',\n",
       "       'average_body'],\n",
       "      dtype='object')"
      ]
     },
     "execution_count": 2,
     "metadata": {},
     "output_type": "execute_result"
    }
   ],
   "source": [
    "\n",
    "# Import libraries\n",
    "## Basic libs\n",
    "import pandas as pd\n",
    "import numpy as np\n",
    "import warnings\n",
    "## Building Model\n",
    "from sklearn import linear_model\n",
    "from scipy import stats\n",
    "import statsmodels\n",
    "import statsmodels.api as sm\n",
    "import statsmodels.formula.api as smf\n",
    "import statsmodels.stats.api as sms\n",
    "from statsmodels.compat import lzip\n",
    "## Data Visualization\n",
    "import seaborn as sns\n",
    "import matplotlib.pyplot as plt\n",
    "from mpl_toolkits.mplot3d import Axes3D\n",
    "\n",
    "\n",
    "memecombined= pd.read_csv(\"Updated.csv\")\n",
    "memecombined.columns"
   ]
  },
  {
   "cell_type": "code",
   "execution_count": 3,
   "metadata": {},
   "outputs": [
    {
     "name": "stdout",
     "output_type": "stream",
     "text": [
      "                            OLS Regression Results                            \n",
      "==============================================================================\n",
      "Dep. Variable:                    GME   R-squared:                       0.029\n",
      "Model:                            OLS   Adj. R-squared:                  0.002\n",
      "Method:                 Least Squares   F-statistic:                     1.087\n",
      "Date:                Thu, 11 Nov 2021   Prob (F-statistic):              0.358\n",
      "Time:                        20:40:51   Log-Likelihood:                -614.63\n",
      "No. Observations:                 113   AIC:                             1237.\n",
      "Df Residuals:                     109   BIC:                             1248.\n",
      "Df Model:                           3                                         \n",
      "Covariance Type:            nonrobust                                         \n",
      "==========================================================================================\n",
      "                             coef    std err          t      P>|t|      [0.025      0.975]\n",
      "------------------------------------------------------------------------------------------\n",
      "Intercept               1426.1560   2.95e+04      0.048      0.962   -5.71e+04    5.99e+04\n",
      "positive_mean_gme_body -1229.4960   2.95e+04     -0.042      0.967   -5.98e+04    5.73e+04\n",
      "neutral_mean_gme_body  -1227.8851   2.95e+04     -0.042      0.967   -5.97e+04    5.72e+04\n",
      "negative_mean_gme_body -1730.7903   2.95e+04     -0.059      0.953   -6.02e+04    5.67e+04\n",
      "==============================================================================\n",
      "Omnibus:                        2.673   Durbin-Watson:                   0.276\n",
      "Prob(Omnibus):                  0.263   Jarque-Bera (JB):                2.100\n",
      "Skew:                          -0.297   Prob(JB):                        0.350\n",
      "Kurtosis:                       3.304   Cond. No.                     1.44e+04\n",
      "==============================================================================\n",
      "\n",
      "Warnings:\n",
      "[1] Standard Errors assume that the covariance matrix of the errors is correctly specified.\n",
      "[2] The condition number is large, 1.44e+04. This might indicate that there are\n",
      "strong multicollinearity or other numerical problems.\n"
     ]
    }
   ],
   "source": [
    "#GME\n",
    "model = smf.ols('GME ~ positive_mean_gme_body + neutral_mean_gme_body + negative_mean_gme_body', data = memecombined)\n",
    "result = model.fit()\n",
    "print(result.summary())"
   ]
  },
  {
   "cell_type": "code",
   "execution_count": 4,
   "metadata": {},
   "outputs": [
    {
     "name": "stdout",
     "output_type": "stream",
     "text": [
      "                            OLS Regression Results                            \n",
      "==============================================================================\n",
      "Dep. Variable:                    AMC   R-squared:                       0.075\n",
      "Model:                            OLS   Adj. R-squared:                  0.049\n",
      "Method:                 Least Squares   F-statistic:                     2.871\n",
      "Date:                Thu, 11 Nov 2021   Prob (F-statistic):             0.0399\n",
      "Time:                        20:42:22   Log-Likelihood:                -465.04\n",
      "No. Observations:                 110   AIC:                             938.1\n",
      "Df Residuals:                     106   BIC:                             948.9\n",
      "Df Model:                           3                                         \n",
      "Covariance Type:            nonrobust                                         \n",
      "==========================================================================================\n",
      "                             coef    std err          t      P>|t|      [0.025      0.975]\n",
      "------------------------------------------------------------------------------------------\n",
      "Intercept               1673.4011   6177.522      0.271      0.787   -1.06e+04    1.39e+04\n",
      "positive_mean_amc_body -1577.7432   6179.351     -0.255      0.799   -1.38e+04    1.07e+04\n",
      "neutral_mean_amc_body  -1651.0734   6176.939     -0.267      0.790   -1.39e+04    1.06e+04\n",
      "negative_mean_amc_body -1820.9413   6183.042     -0.295      0.769   -1.41e+04    1.04e+04\n",
      "==============================================================================\n",
      "Omnibus:                       14.411   Durbin-Watson:                   0.144\n",
      "Prob(Omnibus):                  0.001   Jarque-Bera (JB):               16.359\n",
      "Skew:                           0.914   Prob(JB):                     0.000280\n",
      "Kurtosis:                       2.524   Cond. No.                     9.98e+03\n",
      "==============================================================================\n",
      "\n",
      "Warnings:\n",
      "[1] Standard Errors assume that the covariance matrix of the errors is correctly specified.\n",
      "[2] The condition number is large, 9.98e+03. This might indicate that there are\n",
      "strong multicollinearity or other numerical problems.\n"
     ]
    }
   ],
   "source": [
    "#AMC\n",
    "model = smf.ols('AMC~ positive_mean_amc_body + neutral_mean_amc_body + negative_mean_amc_body', data = memecombined)\n",
    "result = model.fit()\n",
    "print(result.summary())"
   ]
  },
  {
   "cell_type": "code",
   "execution_count": 5,
   "metadata": {},
   "outputs": [
    {
     "name": "stdout",
     "output_type": "stream",
     "text": [
      "                            OLS Regression Results                            \n",
      "==============================================================================\n",
      "Dep. Variable:                     BB   R-squared:                       0.047\n",
      "Model:                            OLS   Adj. R-squared:                  0.016\n",
      "Method:                 Least Squares   F-statistic:                     1.530\n",
      "Date:                Thu, 11 Nov 2021   Prob (F-statistic):              0.212\n",
      "Time:                        20:43:31   Log-Likelihood:                -188.85\n",
      "No. Observations:                  97   AIC:                             385.7\n",
      "Df Residuals:                      93   BIC:                             396.0\n",
      "Df Model:                           3                                         \n",
      "Covariance Type:            nonrobust                                         \n",
      "=========================================================================================\n",
      "                            coef    std err          t      P>|t|      [0.025      0.975]\n",
      "-----------------------------------------------------------------------------------------\n",
      "Intercept               104.6925    486.327      0.215      0.830    -861.056    1070.441\n",
      "positive_mean_bb_body   -94.2689    486.093     -0.194      0.847   -1059.553     871.016\n",
      "neutral_mean_bb_body    -94.6732    486.442     -0.195      0.846   -1060.650     871.303\n",
      "negative_mean_bb_body   -80.8283    485.629     -0.166      0.868   -1045.190     883.534\n",
      "==============================================================================\n",
      "Omnibus:                        4.687   Durbin-Watson:                   0.255\n",
      "Prob(Omnibus):                  0.096   Jarque-Bera (JB):                3.276\n",
      "Skew:                           0.296   Prob(JB):                        0.194\n",
      "Kurtosis:                       2.322   Cond. No.                     7.21e+03\n",
      "==============================================================================\n",
      "\n",
      "Warnings:\n",
      "[1] Standard Errors assume that the covariance matrix of the errors is correctly specified.\n",
      "[2] The condition number is large, 7.21e+03. This might indicate that there are\n",
      "strong multicollinearity or other numerical problems.\n"
     ]
    }
   ],
   "source": [
    "#BB\n",
    "model = smf.ols('BB~ positive_mean_bb_body + neutral_mean_bb_body + negative_mean_bb_body', data = memecombined)\n",
    "result = model.fit()\n",
    "print(result.summary())"
   ]
  },
  {
   "cell_type": "code",
   "execution_count": 6,
   "metadata": {},
   "outputs": [
    {
     "name": "stdout",
     "output_type": "stream",
     "text": [
      "                            OLS Regression Results                            \n",
      "==============================================================================\n",
      "Dep. Variable:                   Clov   R-squared:                       0.066\n",
      "Model:                            OLS   Adj. R-squared:                  0.008\n",
      "Method:                 Least Squares   F-statistic:                     1.140\n",
      "Date:                Thu, 11 Nov 2021   Prob (F-statistic):              0.343\n",
      "Time:                        20:44:19   Log-Likelihood:                -113.63\n",
      "No. Observations:                  52   AIC:                             235.3\n",
      "Df Residuals:                      48   BIC:                             243.1\n",
      "Df Model:                           3                                         \n",
      "Covariance Type:            nonrobust                                         \n",
      "===========================================================================================\n",
      "                              coef    std err          t      P>|t|      [0.025      0.975]\n",
      "-------------------------------------------------------------------------------------------\n",
      "Intercept                 517.9255    929.251      0.557      0.580   -1350.460    2386.311\n",
      "positive_mean_clov_body  -496.2802    929.685     -0.534      0.596   -2365.538    1372.977\n",
      "neutral_mean_clov_body   -508.7429    929.272     -0.547      0.587   -2377.169    1359.684\n",
      "negative_mean_clov_body  -513.2639    928.585     -0.553      0.583   -2380.310    1353.782\n",
      "==============================================================================\n",
      "Omnibus:                       12.212   Durbin-Watson:                   0.362\n",
      "Prob(Omnibus):                  0.002   Jarque-Bera (JB):                4.023\n",
      "Skew:                           0.352   Prob(JB):                        0.134\n",
      "Kurtosis:                       1.833   Cond. No.                     7.79e+03\n",
      "==============================================================================\n",
      "\n",
      "Warnings:\n",
      "[1] Standard Errors assume that the covariance matrix of the errors is correctly specified.\n",
      "[2] The condition number is large, 7.79e+03. This might indicate that there are\n",
      "strong multicollinearity or other numerical problems.\n"
     ]
    }
   ],
   "source": [
    "#Clov\n",
    "model = smf.ols('Clov~ positive_mean_clov_body + neutral_mean_clov_body + negative_mean_clov_body', data = memecombined)\n",
    "result = model.fit()\n",
    "print(result.summary())"
   ]
  },
  {
   "cell_type": "code",
   "execution_count": null,
   "metadata": {},
   "outputs": [],
   "source": []
  }
 ],
 "metadata": {
  "kernelspec": {
   "display_name": "Python 3",
   "language": "python",
   "name": "python3"
  },
  "language_info": {
   "codemirror_mode": {
    "name": "ipython",
    "version": 3
   },
   "file_extension": ".py",
   "mimetype": "text/x-python",
   "name": "python",
   "nbconvert_exporter": "python",
   "pygments_lexer": "ipython3",
   "version": "3.7.6"
  }
 },
 "nbformat": 4,
 "nbformat_minor": 4
}
