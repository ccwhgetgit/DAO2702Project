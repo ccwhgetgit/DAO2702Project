{
 "cells": [
  {
   "cell_type": "code",
   "execution_count": 1,
   "metadata": {},
   "outputs": [
    {
     "data": {
      "text/plain": [
       "Index(['date', 'count_title_x', 'negative_mean_title', 'positive_mean_title',\n",
       "       'neutral_mean_title', 'compound_mean_title', 'count_body_x',\n",
       "       'negative_mean_body', 'positive_mean_body', 'neutral_mean_body',\n",
       "       'compound_mean_body', 'count_gme_title', 'negative_mean_gme_title',\n",
       "       'positive_mean_gme_title', 'neutral_mean_gme_title',\n",
       "       'compound_mean_gme_title', 'count_gme_body', 'negative_mean_gme_body',\n",
       "       'positive_mean_gme_body', 'neutral_mean_gme_body',\n",
       "       'compound_mean_gme_body', 'count_amc_title', 'negative_mean_amc_title',\n",
       "       'positive_mean_amc_title', 'neutral_mean_amc_title',\n",
       "       'compound_mean_amc_title', 'count_amc_body', 'negative_mean_amc_body',\n",
       "       'positive_mean_amc_body', 'neutral_mean_amc_body',\n",
       "       'compound_mean_amc_body', 'count_bb_title', 'negative_mean_bb_title',\n",
       "       'positive_mean_bb_title', 'neutral_mean_bb_title',\n",
       "       'compound_mean_bb_title', 'count_bb_body', 'negative_mean_bb_body',\n",
       "       'positive_mean_bb_body', 'neutral_mean_bb_body',\n",
       "       'compound_mean_bb_body', 'count_clov_title', 'negative_mean_clov_title',\n",
       "       'positive_mean_clov_title', 'neutral_mean_clov_title',\n",
       "       'compound_mean_clov_title', 'count_clov_body',\n",
       "       'negative_mean_clov_body', 'positive_mean_clov_body',\n",
       "       'neutral_mean_clov_body', 'compound_mean_clov_body', 'Clov', 'BB',\n",
       "       'AMC', 'GME', 'count_title_y', 'average_title', 'count_body_y',\n",
       "       'average_body'],\n",
       "      dtype='object')"
      ]
     },
     "execution_count": 1,
     "metadata": {},
     "output_type": "execute_result"
    }
   ],
   "source": [
    "\n",
    "# Import libraries\n",
    "## Basic libs\n",
    "import pandas as pd\n",
    "import numpy as np\n",
    "import warnings\n",
    "## Building Model\n",
    "from sklearn import linear_model\n",
    "from scipy import stats\n",
    "import statsmodels\n",
    "import statsmodels.api as sm\n",
    "import statsmodels.formula.api as smf\n",
    "import statsmodels.stats.api as sms\n",
    "from statsmodels.compat import lzip\n",
    "## Data Visualization\n",
    "import seaborn as sns\n",
    "import matplotlib.pyplot as plt\n",
    "from mpl_toolkits.mplot3d import Axes3D\n",
    "\n",
    "\n",
    "memecombined= pd.read_csv(\"Updated.csv\")\n",
    "memecombined.columns"
   ]
  },
  {
   "cell_type": "code",
   "execution_count": 3,
   "metadata": {},
   "outputs": [
    {
     "name": "stdout",
     "output_type": "stream",
     "text": [
      "                            OLS Regression Results                            \n",
      "==============================================================================\n",
      "Dep. Variable:                    GME   R-squared:                       0.137\n",
      "Model:                            OLS   Adj. R-squared:                  0.106\n",
      "Method:                 Least Squares   F-statistic:                     4.303\n",
      "Date:                Thu, 11 Nov 2021   Prob (F-statistic):            0.00287\n",
      "Time:                        20:59:06   Log-Likelihood:                -607.94\n",
      "No. Observations:                 113   AIC:                             1226.\n",
      "Df Residuals:                     108   BIC:                             1240.\n",
      "Df Model:                           4                                         \n",
      "Covariance Type:            nonrobust                                         \n",
      "==========================================================================================\n",
      "                             coef    std err          t      P>|t|      [0.025      0.975]\n",
      "------------------------------------------------------------------------------------------\n",
      "Intercept                112.8923     36.297      3.110      0.002      40.945     184.839\n",
      "count_gme_body             0.0509      0.022      2.285      0.024       0.007       0.095\n",
      "compound_mean_gme_body    30.2374     17.475      1.730      0.086      -4.401      64.876\n",
      "Clov                     -15.1535      4.315     -3.511      0.001     -23.707      -6.600\n",
      "BB                        16.8566      5.576      3.023      0.003       5.804      27.909\n",
      "==============================================================================\n",
      "Omnibus:                        6.201   Durbin-Watson:                   0.183\n",
      "Prob(Omnibus):                  0.045   Jarque-Bera (JB):                6.410\n",
      "Skew:                          -0.570   Prob(JB):                       0.0406\n",
      "Kurtosis:                       2.754   Cond. No.                     1.86e+03\n",
      "==============================================================================\n",
      "\n",
      "Warnings:\n",
      "[1] Standard Errors assume that the covariance matrix of the errors is correctly specified.\n",
      "[2] The condition number is large, 1.86e+03. This might indicate that there are\n",
      "strong multicollinearity or other numerical problems.\n"
     ]
    }
   ],
   "source": [
    "#GME\n",
    "model = smf.ols('GME ~ count_gme_body + compound_mean_gme_body + Clov + BB', data = memecombined)\n",
    "result = model.fit()\n",
    "print(result.summary())"
   ]
  },
  {
   "cell_type": "code",
   "execution_count": 4,
   "metadata": {},
   "outputs": [
    {
     "name": "stdout",
     "output_type": "stream",
     "text": [
      "                            OLS Regression Results                            \n",
      "==============================================================================\n",
      "Dep. Variable:                   Clov   R-squared:                       0.250\n",
      "Model:                            OLS   Adj. R-squared:                  0.220\n",
      "Method:                 Least Squares   F-statistic:                     8.187\n",
      "Date:                Thu, 11 Nov 2021   Prob (F-statistic):           0.000856\n",
      "Time:                        21:08:09   Log-Likelihood:                -107.92\n",
      "No. Observations:                  52   AIC:                             221.8\n",
      "Df Residuals:                      49   BIC:                             227.7\n",
      "Df Model:                           2                                         \n",
      "Covariance Type:            nonrobust                                         \n",
      "===========================================================================================\n",
      "                              coef    std err          t      P>|t|      [0.025      0.975]\n",
      "-------------------------------------------------------------------------------------------\n",
      "Intercept                   8.8466      0.495     17.860      0.000       7.851       9.842\n",
      "count_clov_body             0.5297      0.141      3.759      0.000       0.247       0.813\n",
      "compound_mean_clov_body     0.5304      0.472      1.125      0.266      -0.417       1.478\n",
      "==============================================================================\n",
      "Omnibus:                        9.130   Durbin-Watson:                   0.434\n",
      "Prob(Omnibus):                  0.010   Jarque-Bera (JB):                2.943\n",
      "Skew:                           0.175   Prob(JB):                        0.230\n",
      "Kurtosis:                       1.888   Cond. No.                         6.95\n",
      "==============================================================================\n",
      "\n",
      "Warnings:\n",
      "[1] Standard Errors assume that the covariance matrix of the errors is correctly specified.\n"
     ]
    }
   ],
   "source": [
    "#Clov\n",
    "model = smf.ols('Clov ~ count_clov_body + compound_mean_clov_body', data = memecombined)\n",
    "result = model.fit()\n",
    "print(result.summary())"
   ]
  },
  {
   "cell_type": "code",
   "execution_count": 7,
   "metadata": {},
   "outputs": [
    {
     "name": "stdout",
     "output_type": "stream",
     "text": [
      "                            OLS Regression Results                            \n",
      "==============================================================================\n",
      "Dep. Variable:                    AMC   R-squared:                       0.275\n",
      "Model:                            OLS   Adj. R-squared:                  0.247\n",
      "Method:                 Least Squares   F-statistic:                     9.939\n",
      "Date:                Thu, 11 Nov 2021   Prob (F-statistic):           7.37e-07\n",
      "Time:                        21:12:23   Log-Likelihood:                -451.68\n",
      "No. Observations:                 110   AIC:                             913.4\n",
      "Df Residuals:                     105   BIC:                             926.9\n",
      "Df Model:                           4                                         \n",
      "Covariance Type:            nonrobust                                         \n",
      "==========================================================================================\n",
      "                             coef    std err          t      P>|t|      [0.025      0.975]\n",
      "------------------------------------------------------------------------------------------\n",
      "Intercept                -38.6526      9.998     -3.866      0.000     -58.476     -18.829\n",
      "count_amc_body            -0.0353      0.016     -2.268      0.025      -0.066      -0.004\n",
      "compound_mean_amc_body     5.9324      3.506      1.692      0.094      -1.020      12.885\n",
      "Clov                      -0.2135      1.221     -0.175      0.861      -2.634       2.207\n",
      "BB                         5.5026      1.592      3.456      0.001       2.346       8.659\n",
      "==============================================================================\n",
      "Omnibus:                       11.386   Durbin-Watson:                   0.225\n",
      "Prob(Omnibus):                  0.003   Jarque-Bera (JB):                4.067\n",
      "Skew:                           0.103   Prob(JB):                        0.131\n",
      "Kurtosis:                       2.081   Cond. No.                         706.\n",
      "==============================================================================\n",
      "\n",
      "Warnings:\n",
      "[1] Standard Errors assume that the covariance matrix of the errors is correctly specified.\n"
     ]
    }
   ],
   "source": [
    "#AMC\n",
    "model = smf.ols('AMC ~ count_amc_body + compound_mean_amc_body + Clov + BB', data = memecombined)\n",
    "result = model.fit()\n",
    "print(result.summary())"
   ]
  },
  {
   "cell_type": "code",
   "execution_count": 8,
   "metadata": {},
   "outputs": [
    {
     "name": "stdout",
     "output_type": "stream",
     "text": [
      "                            OLS Regression Results                            \n",
      "==============================================================================\n",
      "Dep. Variable:                     BB   R-squared:                       1.000\n",
      "Model:                            OLS   Adj. R-squared:                  1.000\n",
      "Method:                 Least Squares   F-statistic:                 2.171e+28\n",
      "Date:                Thu, 11 Nov 2021   Prob (F-statistic):               0.00\n",
      "Time:                        21:20:09   Log-Likelihood:                 2821.2\n",
      "No. Observations:                  97   AIC:                            -5632.\n",
      "Df Residuals:                      92   BIC:                            -5620.\n",
      "Df Model:                           4                                         \n",
      "Covariance Type:            nonrobust                                         \n",
      "=========================================================================================\n",
      "                            coef    std err          t      P>|t|      [0.025      0.975]\n",
      "-----------------------------------------------------------------------------------------\n",
      "Intercept             -8.771e-15   4.32e-14     -0.203      0.839   -9.45e-14    7.69e-14\n",
      "count_bb_body          7.633e-17   9.81e-17      0.778      0.439   -1.19e-16    2.71e-16\n",
      "compound_mean_bb_body  1.665e-15   1.56e-14      0.107      0.915   -2.93e-14    3.27e-14\n",
      "Clov                  -2.387e-15   4.91e-15     -0.486      0.628   -1.21e-14    7.37e-15\n",
      "BB                        1.0000   6.38e-15   1.57e+14      0.000       1.000       1.000\n",
      "==============================================================================\n",
      "Omnibus:                        1.211   Durbin-Watson:                   0.017\n",
      "Prob(Omnibus):                  0.546   Jarque-Bera (JB):                1.295\n",
      "Skew:                           0.237   Prob(JB):                        0.523\n",
      "Kurtosis:                       2.691   Cond. No.                         478.\n",
      "==============================================================================\n",
      "\n",
      "Warnings:\n",
      "[1] Standard Errors assume that the covariance matrix of the errors is correctly specified.\n"
     ]
    }
   ],
   "source": [
    "#BB\n",
    "model = smf.ols('BB ~ count_bb_body + compound_mean_bb_body + Clov + BB', data = memecombined)\n",
    "result = model.fit()\n",
    "print(result.summary())"
   ]
  },
  {
   "cell_type": "code",
   "execution_count": null,
   "metadata": {},
   "outputs": [],
   "source": []
  },
  {
   "cell_type": "code",
   "execution_count": null,
   "metadata": {},
   "outputs": [],
   "source": []
  }
 ],
 "metadata": {
  "kernelspec": {
   "display_name": "Python 3",
   "language": "python",
   "name": "python3"
  },
  "language_info": {
   "codemirror_mode": {
    "name": "ipython",
    "version": 3
   },
   "file_extension": ".py",
   "mimetype": "text/x-python",
   "name": "python",
   "nbconvert_exporter": "python",
   "pygments_lexer": "ipython3",
   "version": "3.7.6"
  }
 },
 "nbformat": 4,
 "nbformat_minor": 4
}
